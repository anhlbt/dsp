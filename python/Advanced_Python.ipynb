{
 "cells": [
  {
   "cell_type": "markdown",
   "metadata": {},
   "source": [
    "# Advanced Python\n",
    "Michelle L. Gill  \n",
    "2016/05/18  \n",
    "\n",
    "This is a Jupyter notebook that will reproduce all of the analysis in the following files:\n",
    "* [advanced_python_cleaning.py](advanced_python_cleaning.py)\n",
    "* [advanced_python_regex.py](advanced_python_regex.py)\n",
    "* [advanced_python_csv.py](advanced_python_csv.py)\n",
    "* [advanced_python_dict.py](advanced_python_dict.py)"
   ]
  },
  {
   "cell_type": "code",
   "execution_count": 1,
   "metadata": {
    "ExecuteTime": {
     "end_time": "2016-05-18T21:11:37.544713",
     "start_time": "2016-05-18T21:11:37.421695"
    },
    "collapsed": false
   },
   "outputs": [
    {
     "name": "stdout",
     "output_type": "stream",
     "text": [
      "name, degree, title, email\r\n",
      "Scarlett L. Bellamy, Sc.D.,Associate Professor of Biostatistics,bellamys@mail.med.upenn.edu\r\n",
      "Warren B. Bilker,Ph.D.,Professor of Biostatistics,warren@upenn.edu\r\n",
      "Matthew W Bryan, PhD,Assistant Professor of Biostatistics,bryanma@upenn.edu\r\n",
      "Jinbo Chen, Ph.D.,Associate Professor of Biostatistics,jinboche@upenn.edu\r\n"
     ]
    }
   ],
   "source": [
    "! head -n 5 faculty.csv"
   ]
  },
  {
   "cell_type": "code",
   "execution_count": 2,
   "metadata": {
    "ExecuteTime": {
     "end_time": "2016-05-18T21:11:40.501370",
     "start_time": "2016-05-18T21:11:39.772786"
    },
    "collapsed": false
   },
   "outputs": [],
   "source": [
    "import pandas as pd\n",
    "import re\n",
    "\n",
    "strip_sp = lambda x: x.strip()\n",
    "\n",
    "# Add period whenever next character is a capital or a space\n",
    "clean_degrees = lambda x: re.sub(r\"\"\"(\\w+?)(?=[ A-Z])\"\"\", r'\\1.', x+' ').strip()\n",
    "\n",
    "# Import the data and strip unused spaces\n",
    "faculty = pd.read_csv('faculty.csv',\n",
    "                      names=['name', 'degree', 'title', 'email'],\n",
    "                      skiprows=[0],\n",
    "                      converters = {'name' : strip_sp, 'degree' : clean_degrees,\n",
    "                                    'title': strip_sp, 'email'  : strip_sp})\n",
    "\n",
    "# Add missing degree\n",
    "faculty.loc[faculty['name'] == 'Russell Takeshi Shinohara', 'degree'] = 'Ph.D.'\n",
    "\n",
    "# Remove department name from title\n",
    "faculty['title'] = faculty['title'].str.extract(r\"\"\"((?:(?:Assistant|Associate) )?Professor)\"\"\", expand=True)\n",
    "\n",
    "# Determine email domain\n",
    "faculty['email_domain'] = faculty.email.str.extract(r\"\"\"@(.+)\"\"\", expand=True)\n",
    "\n",
    "# Extract first and last name:\n",
    "# 1. Skip first initial if only listed as single letter\n",
    "# 2. Also skip any nicknames in parenthesis\n",
    "faculty[['first_name','last_name']] = ( faculty['name'].str\n",
    "                                        .extract(r\"\"\"(?:[A-Z]\\. )?(.+?)(?: \\(?([\\w.]+)\\)?)? (.+)\"\"\", \n",
    "                                                 expand=True)\n",
    "                                        .fillna('')\n",
    "                                        [[0,2]]\n",
    "                                       )"
   ]
  },
  {
   "cell_type": "markdown",
   "metadata": {},
   "source": [
    "### Q1. Find how many different degrees there are, and their frequencies: Ex:  PhD, ScD, MD, MPH, BSEd, MS, JD, etc."
   ]
  },
  {
   "cell_type": "code",
   "execution_count": 3,
   "metadata": {
    "ExecuteTime": {
     "end_time": "2016-05-18T21:11:44.545581",
     "start_time": "2016-05-18T21:11:44.536692"
    },
    "collapsed": false
   },
   "outputs": [
    {
     "name": "stdout",
     "output_type": "stream",
     "text": [
      "8\n"
     ]
    }
   ],
   "source": [
    "# Split multiple degress up and flatten into series\n",
    "degrees = faculty.degree.apply(lambda x: x.split(' ')).values\n",
    "degrees = pd.Series(sum(degrees, []))\n",
    "\n",
    "print(degrees.nunique())"
   ]
  },
  {
   "cell_type": "code",
   "execution_count": 4,
   "metadata": {
    "ExecuteTime": {
     "end_time": "2016-05-18T21:11:45.347015",
     "start_time": "2016-05-18T21:11:45.340351"
    },
    "collapsed": false
   },
   "outputs": [
    {
     "name": "stdout",
     "output_type": "stream",
     "text": [
      "Ph.D.      32\n",
      "Sc.D.       6\n",
      "M.P.H.      2\n",
      "M.S.        2\n",
      "B.S.Ed.     1\n",
      "J.D.        1\n",
      "M.D.        1\n",
      "M.A.        1\n",
      "dtype: int64\n"
     ]
    }
   ],
   "source": [
    "print(degrees.value_counts())"
   ]
  },
  {
   "cell_type": "markdown",
   "metadata": {},
   "source": [
    "### Q2. Find how many different titles there are, and their frequencies:  Ex:  Assistant Professor, Professor"
   ]
  },
  {
   "cell_type": "code",
   "execution_count": 5,
   "metadata": {
    "ExecuteTime": {
     "end_time": "2016-05-18T21:11:46.531739",
     "start_time": "2016-05-18T21:11:46.525161"
    },
    "collapsed": false
   },
   "outputs": [
    {
     "name": "stdout",
     "output_type": "stream",
     "text": [
      "Professor              13\n",
      "Associate Professor    12\n",
      "Assistant Professor    12\n",
      "Name: title, dtype: int64\n"
     ]
    }
   ],
   "source": [
    "print(faculty.title.value_counts())"
   ]
  },
  {
   "cell_type": "markdown",
   "metadata": {},
   "source": [
    "### Q3. Search for email addresses and put them in a list.  Print the list of email addresses."
   ]
  },
  {
   "cell_type": "code",
   "execution_count": 6,
   "metadata": {
    "ExecuteTime": {
     "end_time": "2016-05-18T21:11:47.635287",
     "start_time": "2016-05-18T21:11:47.631276"
    },
    "collapsed": false
   },
   "outputs": [
    {
     "name": "stdout",
     "output_type": "stream",
     "text": [
      "['bellamys@mail.med.upenn.edu', 'warren@upenn.edu', 'bryanma@upenn.edu', 'jinboche@upenn.edu', 'sellenbe@upenn.edu', 'jellenbe@mail.med.upenn.edu', 'ruifeng@upenn.edu', 'bcfrench@mail.med.upenn.edu', 'pgimotty@upenn.edu', 'wguo@mail.med.upenn.edu', 'hsu9@mail.med.upenn.edu', 'rhubb@mail.med.upenn.edu', 'whwang@mail.med.upenn.edu', 'mjoffe@mail.med.upenn.edu', 'jrlandis@mail.med.upenn.edu', 'liy3@email.chop.edu', 'mingyao@mail.med.upenn.edu', 'hongzhe@upenn.edu', 'rlocalio@upenn.edu', 'nanditam@mail.med.upenn.edu', 'knashawn@mail.med.upenn.edu', 'propert@mail.med.upenn.edu', 'mputt@mail.med.upenn.edu', 'sratclif@upenn.edu', 'michross@upenn.edu', 'jaroy@mail.med.upenn.edu', 'msammel@cceb.med.upenn.edu', 'shawp@upenn.edu', 'rshi@mail.med.upenn.edu', 'hshou@mail.med.upenn.edu', 'jshults@mail.med.upenn.edu', 'alisaste@mail.med.upenn.edu', 'atroxel@mail.med.upenn.edu', 'rxiao@mail.med.upenn.edu', 'sxie@mail.med.upenn.edu', 'dxie@upenn.edu', 'weiyang@mail.med.upenn.edu']\n"
     ]
    }
   ],
   "source": [
    "print(list(faculty.email))"
   ]
  },
  {
   "cell_type": "markdown",
   "metadata": {},
   "source": [
    "### Q4. Find how many different email domains there are (Ex:  mail.med.upenn.edu, upenn.edu, email.chop.edu, etc.).  Print the list of unique email domains."
   ]
  },
  {
   "cell_type": "code",
   "execution_count": 7,
   "metadata": {
    "ExecuteTime": {
     "end_time": "2016-05-18T21:12:03.700405",
     "start_time": "2016-05-18T21:12:03.695256"
    },
    "collapsed": false
   },
   "outputs": [
    {
     "name": "stdout",
     "output_type": "stream",
     "text": [
      "['mail.med.upenn.edu' 'upenn.edu' 'email.chop.edu' 'cceb.med.upenn.edu']\n"
     ]
    }
   ],
   "source": [
    "print(faculty.email_domain.unique())"
   ]
  },
  {
   "cell_type": "markdown",
   "metadata": {},
   "source": [
    "### Q5.  Write email addresses from Part I to csv file"
   ]
  },
  {
   "cell_type": "code",
   "execution_count": 8,
   "metadata": {
    "ExecuteTime": {
     "end_time": "2016-05-18T21:14:08.290499",
     "start_time": "2016-05-18T21:14:08.168061"
    },
    "collapsed": false
   },
   "outputs": [
    {
     "name": "stdout",
     "output_type": "stream",
     "text": [
      "bellamys@mail.med.upenn.edu\r\n",
      "warren@upenn.edu\r\n",
      "bryanma@upenn.edu\r\n",
      "jinboche@upenn.edu\r\n",
      "sellenbe@upenn.edu\r\n",
      "jellenbe@mail.med.upenn.edu\r\n",
      "ruifeng@upenn.edu\r\n",
      "bcfrench@mail.med.upenn.edu\r\n",
      "pgimotty@upenn.edu\r\n",
      "wguo@mail.med.upenn.edu\r\n"
     ]
    }
   ],
   "source": [
    "faculty.email.to_csv('../emails.csv', header=False, index=False)\n",
    "! head ../emails.csv"
   ]
  },
  {
   "cell_type": "markdown",
   "metadata": {},
   "source": [
    "### Q6.  Create a dictionary in the below format:\n",
    "```\n",
    "faculty_dict = { 'Ellenberg': [\\\n",
    "              ['Ph.D.', 'Professor', 'sellenbe@upenn.edu'],\\\n",
    "              ['Ph.D.', 'Professor', 'jellenbe@mail.med.upenn.edu']\n",
    "                            ],\n",
    "              'Li': [\\\n",
    "              ['Ph.D.', 'Assistant Professor', 'liy3@email.chop.edu'],\\\n",
    "              ['Ph.D.', 'Associate Professor', 'mingyao@mail.med.upenn.edu'],\\\n",
    "              ['Ph.D.', 'Professor', 'hongzhe@upenn.edu']\n",
    "                            ]\n",
    "            }\n",
    "```"
   ]
  },
  {
   "cell_type": "code",
   "execution_count": 9,
   "metadata": {
    "ExecuteTime": {
     "end_time": "2016-05-18T21:14:11.844425",
     "start_time": "2016-05-18T21:14:11.793121"
    },
    "collapsed": false,
    "scrolled": true
   },
   "outputs": [
    {
     "name": "stdout",
     "output_type": "stream",
     "text": [
      "{'Putt': [['Ph.D. Sc.D.', 'Professor', 'mputt@mail.med.upenn.edu']], 'Feng': [['Ph.D.', 'Assistant Professor', 'ruifeng@upenn.edu']], 'Bilker': [['Ph.D.', 'Professor', 'warren@upenn.edu']]}\n"
     ]
    }
   ],
   "source": [
    "faculty_dict = dict([(x,y.drop('last_name', axis=1).values.tolist())\n",
    "                      for x,y in \n",
    "                      faculty[['last_name', 'degree', 'title', 'email']]\n",
    "                      .groupby('last_name')])\n",
    "\n",
    "print(dict([(key, faculty_dict[key]) for key in faculty_dict.keys()[:3]]))"
   ]
  },
  {
   "cell_type": "markdown",
   "metadata": {},
   "source": [
    "### Q7.  The previous dictionary does not have the best design for keys.  Create a new dictionary with keys as:\n",
    "\n",
    "```\n",
    "professor_dict = {('Susan', 'Ellenberg'): ['Ph.D.', 'Professor', 'sellenbe@upenn.edu'],\\\n",
    "                ('Jonas', 'Ellenberg'): ['Ph.D.', 'Professor', 'jellenbe@mail.med.upenn.edu'],\\\n",
    "                ('Yimei', 'Li'): ['Ph.D.', 'Assistant Professor', 'liy3@email.chop.edu'],\\\n",
    "                ('Mingyao','Li'): ['Ph.D.', 'Associate Professor', 'mingyao@mail.med.upenn.edu'],\\\n",
    "                ('Hongzhe','Li'): ['Ph.D.', 'Professor', 'hongzhe@upenn.edu']\n",
    "            }\n",
    "```"
   ]
  },
  {
   "cell_type": "code",
   "execution_count": 10,
   "metadata": {
    "ExecuteTime": {
     "end_time": "2016-05-18T21:14:14.141101",
     "start_time": "2016-05-18T21:14:14.090935"
    },
    "collapsed": false,
    "scrolled": true
   },
   "outputs": [
    {
     "name": "stdout",
     "output_type": "stream",
     "text": [
      "{('Hongzhe', 'Li'): [['Ph.D.', 'Professor', 'hongzhe@upenn.edu']], ('Knashawn', 'Morales'): [['Sc.D.', 'Associate Professor', 'knashawn@mail.med.upenn.edu']], ('Yimei', 'Li'): [['Ph.D.', 'Assistant Professor', 'liy3@email.chop.edu']]}\n"
     ]
    }
   ],
   "source": [
    "professor_dict = dict([(x,y.drop(['last_name', 'first_name'], axis=1).values.tolist())\n",
    "                        for x,y in \n",
    "                        faculty[['last_name', 'first_name', 'degree', 'title', 'email']]\n",
    "                        .groupby(['first_name', 'last_name'])])\n",
    "\n",
    "print(dict([(key, professor_dict[key]) for key in professor_dict.keys()[:3]]))"
   ]
  },
  {
   "cell_type": "markdown",
   "metadata": {},
   "source": [
    "### Q8.  It looks like the current dictionary is printing by first name.  Sort by last name and print the first 3 key and value pairs."
   ]
  },
  {
   "cell_type": "code",
   "execution_count": 11,
   "metadata": {
    "ExecuteTime": {
     "end_time": "2016-05-18T21:14:16.999659",
     "start_time": "2016-05-18T21:14:16.994086"
    },
    "collapsed": false
   },
   "outputs": [
    {
     "name": "stdout",
     "output_type": "stream",
     "text": [
      "{('Warren', 'Bilker'): [['Ph.D.', 'Professor', 'warren@upenn.edu']], ('Scarlett', 'Bellamy'): [['Sc.D.', 'Associate Professor', 'bellamys@mail.med.upenn.edu']], ('Matthew', 'Bryan'): [['Ph.D.', 'Assistant Professor', 'bryanma@upenn.edu']]}\n"
     ]
    }
   ],
   "source": [
    "last_name_sort = lambda x: x[1]\n",
    "\n",
    "print(dict([(key, professor_dict[key]) \n",
    "            for key in sorted(professor_dict, key=last_name_sort)[:3]]))"
   ]
  }
 ],
 "metadata": {
  "kernelspec": {
   "display_name": "Python 2",
   "language": "python",
   "name": "python2"
  },
  "language_info": {
   "codemirror_mode": {
    "name": "ipython",
    "version": 2
   },
   "file_extension": ".py",
   "mimetype": "text/x-python",
   "name": "python",
   "nbconvert_exporter": "python",
   "pygments_lexer": "ipython2",
   "version": "2.7.11"
  }
 },
 "nbformat": 4,
 "nbformat_minor": 0
}
