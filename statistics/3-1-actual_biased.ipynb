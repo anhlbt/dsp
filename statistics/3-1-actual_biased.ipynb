{
 "cells": [
  {
   "cell_type": "markdown",
   "metadata": {},
   "source": [
    "[Think Stats Chapter 3 Exercise 1](http://greenteapress.com/thinkstats2/html/thinkstats2004.html#toc31) (actual vs. biased)\n",
    "\n",
    "Use the NSFG respondent variable NUMKDHH to construct the actual distribution for the number of children under 18 in the household. Now compute the biased distribution we would see if we surveyed the children and asked them how many children under 18 (including themselves) are in their household.\n",
    "\n",
    "Plot the actual and biased distributions, and compute their means."
   ]
  },
  {
   "cell_type": "code",
   "execution_count": 1,
   "metadata": {
    "ExecuteTime": {
     "end_time": "2016-05-27T13:59:29.590365",
     "start_time": "2016-05-27T13:59:28.056624"
    },
    "collapsed": false
   },
   "outputs": [],
   "source": [
    "import pandas as pd\n",
    "import numpy as np\n",
    "import seaborn as sns\n",
    "from tabulate import tabulate\n",
    "%matplotlib inline"
   ]
  },
  {
   "cell_type": "markdown",
   "metadata": {},
   "source": [
    "Load the `numkdhh` column from the 2002 female response survey data. This uses a custom library I wrote called `load_ThinkStats`."
   ]
  },
  {
   "cell_type": "code",
   "execution_count": 2,
   "metadata": {
    "ExecuteTime": {
     "end_time": "2016-05-27T13:59:30.162431",
     "start_time": "2016-05-27T13:59:29.592521"
    },
    "collapsed": false
   },
   "outputs": [],
   "source": [
    "from load_ThinkStats import load_survey_data\n",
    "df = load_survey_data('2002FemResp', columns=['numkdhh'])"
   ]
  },
  {
   "cell_type": "markdown",
   "metadata": {},
   "source": [
    "## Calculate unbiased and biased distributions\n",
    "\n",
    "Sum the number of households with varying number of children to determine the distribution. Then compute the biased distribution and normalize everything."
   ]
  },
  {
   "cell_type": "code",
   "execution_count": 3,
   "metadata": {
    "ExecuteTime": {
     "end_time": "2016-05-27T13:59:30.183282",
     "start_time": "2016-05-27T13:59:30.164459"
    },
    "collapsed": false
   },
   "outputs": [],
   "source": [
    "# Calculate totals for each number of children\n",
    "household_kids = ( df.numkdhh\n",
    "                     .value_counts()\n",
    "                     .to_frame()\n",
    "                     .reset_index()\n",
    "                     .rename(columns={'index':'num_kids', \n",
    "                                      'numkdhh':'unbiased'})\n",
    "                  )\n",
    "\n",
    "# Compute the baised counts\n",
    "household_kids['biased'] = household_kids.unbiased * household_kids.num_kids\n",
    "\n",
    "# Normalize data\n",
    "household_kids[['unbiased','biased']] /= household_kids[['unbiased','biased']].sum()"
   ]
  },
  {
   "cell_type": "markdown",
   "metadata": {},
   "source": [
    "Print the table in markdown syntax since this worksheet is converted to markdown."
   ]
  },
  {
   "cell_type": "code",
   "execution_count": 4,
   "metadata": {
    "ExecuteTime": {
     "end_time": "2016-05-27T13:59:30.928911",
     "start_time": "2016-05-27T13:59:30.921132"
    },
    "collapsed": false
   },
   "outputs": [
    {
     "name": "stdout",
     "output_type": "stream",
     "text": [
      "|   num_kids |   unbiased |   biased |\n",
      "|-----------:|-----------:|---------:|\n",
      "|      0.000 |      0.466 |    0.000 |\n",
      "|      1.000 |      0.214 |    0.209 |\n",
      "|      2.000 |      0.196 |    0.383 |\n",
      "|      3.000 |      0.087 |    0.255 |\n",
      "|      4.000 |      0.026 |    0.100 |\n",
      "|      5.000 |      0.011 |    0.052 |\n"
     ]
    }
   ],
   "source": [
    "print(tabulate(household_kids.set_index('num_kids'), \n",
    "               headers=list(household_kids.columns),\n",
    "               tablefmt='pipe',\n",
    "               floatfmt=\".3f\")\n",
    "      )"
   ]
  },
  {
   "cell_type": "markdown",
   "metadata": {},
   "source": [
    "## Distribution means\n",
    "\n",
    "Calculate the average number of children for both the unbiased and biased distributions."
   ]
  },
  {
   "cell_type": "code",
   "execution_count": 10,
   "metadata": {
    "ExecuteTime": {
     "end_time": "2016-05-27T14:06:39.158776",
     "start_time": "2016-05-27T14:06:39.146838"
    },
    "collapsed": false
   },
   "outputs": [],
   "source": [
    "household_kids_means = ( household_kids[['unbiased','biased']]\n",
    "                         .mul(household_kids.num_kids, axis=0)\n",
    "                         .sum()\n",
    "                         .to_frame()\n",
    "                         .rename(columns={0:'mean'})\n",
    "                         .transpose()\n",
    "                        )"
   ]
  },
  {
   "cell_type": "code",
   "execution_count": 11,
   "metadata": {
    "ExecuteTime": {
     "end_time": "2016-05-27T14:06:41.387787",
     "start_time": "2016-05-27T14:06:41.381423"
    },
    "collapsed": false
   },
   "outputs": [
    {
     "name": "stdout",
     "output_type": "stream",
     "text": [
      "|      |   unbiased |   biased |\n",
      "|:-----|-----------:|---------:|\n",
      "| mean |      1.024 |    2.404 |\n"
     ]
    }
   ],
   "source": [
    "print(tabulate(household_kids_means,\n",
    "               headers=list(household_kids_means.columns),\n",
    "               tablefmt='pipe',\n",
    "               floatfmt=\".3f\")\n",
    "      )"
   ]
  },
  {
   "cell_type": "markdown",
   "metadata": {},
   "source": [
    "## Visualize PMFs\n",
    "\n",
    "Plot the PMFs for the unbiased and biased distributions."
   ]
  },
  {
   "cell_type": "code",
   "execution_count": 7,
   "metadata": {
    "ExecuteTime": {
     "end_time": "2016-05-27T13:59:33.288153",
     "start_time": "2016-05-27T13:59:33.277312"
    },
    "collapsed": false
   },
   "outputs": [],
   "source": [
    "# First pad beginning and end with zero-value data for better step-plotting\n",
    "klim = [household_kids.num_kids.min(), \n",
    "        household_kids.num_kids.max()]\n",
    "\n",
    "pad_values = pd.DataFrame(dict(num_kids=[klim[0]-1,\n",
    "                                         klim[1]+1], \n",
    "                               unbiased=[0,0], \n",
    "                               biased=[0,0]),\n",
    "                          columns=['num_kids','unbiased','biased'])\n",
    "\n",
    "household_kids = ( pd.concat([household_kids, pad_values])\n",
    "                   .sort_values('num_kids')\n",
    "                   .reset_index(drop=True)\n",
    "                  )"
   ]
  },
  {
   "cell_type": "code",
   "execution_count": 12,
   "metadata": {
    "ExecuteTime": {
     "end_time": "2016-05-27T14:12:54.601403",
     "start_time": "2016-05-27T14:12:54.300985"
    },
    "collapsed": false
   },
   "outputs": [
    {
     "data": {
      "image/png": "[encoded data removed]",
      "text/plain": [
       "<matplotlib.figure.Figure at 0x119be9550>"
      ]
     },
     "metadata": {},
     "output_type": "display_data"
    }
   ],
   "source": [
    "# Make the plot\n",
    "sns.set_context('talk')\n",
    "sns.set_style('white')\n",
    "\n",
    "ax = ( household_kids[['biased','unbiased']]\n",
    "         .plot(kind='line', \n",
    "               drawstyle='steps',\n",
    "               lw=2.0,\n",
    "               xlim=(klim[0]-0.25, klim[1]+1.25),\n",
    "               figsize=(7,5))\n",
    "      )\n",
    "\n",
    "ax.set_xlabel('Number of Children')\n",
    "ax.set_ylabel('Probability')\n",
    "ax.set_title('Unbiased vs Biased Distribution of Children in Household')\n",
    "\n",
    "xticks = ax.get_xticks()[1:-2].astype(np.int)\n",
    "_ = ax.set_xticks(xticks+0.5)\n",
    "_ = ax.set_xticklabels(xticks)"
   ]
  }
 ],
 "metadata": {
  "kernelspec": {
   "display_name": "Python 2",
   "language": "python",
   "name": "python2"
  },
  "language_info": {
   "codemirror_mode": {
    "name": "ipython",
    "version": 2
   },
   "file_extension": ".py",
   "mimetype": "text/x-python",
   "name": "python",
   "nbconvert_exporter": "python",
   "pygments_lexer": "ipython2",
   "version": "2.7.11"
  }
 },
 "nbformat": 4,
 "nbformat_minor": 0
}
