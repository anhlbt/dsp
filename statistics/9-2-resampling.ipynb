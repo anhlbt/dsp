{
 "cells": [
  {
   "cell_type": "markdown",
   "metadata": {},
   "source": [
    "[Think Stats Chapter 9 Exercise 2](http://greenteapress.com/thinkstats2/html/thinkstats2010.html#toc90) (resampling)\n",
    "\n",
    "In 'Testing a Difference in Means', we simulated the null hypothesis by permutation; that is, we treated the observed values as if they represented the entire population, and randomly assigned the members of the population to the two groups.\n",
    "\n",
    "An alternative is to use the sample to estimate the distribution for the population, then draw a random sample from that distribution. This process is called resampling. There are several ways to implement resampling, but one of the simplest is to draw a sample with replacement from the observed values, as in Power.\n",
    "\n",
    "Write a class named DiffMeansResample that inherits from DiffMeansPermute and overrides RunModel to implement resampling, rather than permutation.\n",
    "\n",
    "Use this model to test the differences in pregnancy length and birth weight. How much does the model affect the results?\n",
    "\n",
    "This notebook has been converted to a markdown file using [convert_notebooks_to_markdown.py](./convert_notebooks_to_markdown.py).\n",
    "\n",
    "# Answer\n",
    "\n",
    "The p-values resulting from the two different models (permutation and resampling) are slightly--but not significantly--different. So in this case, I would say it does not matter which method is used. However, I can see the difference becoming more critical in cases where there are significant outliers or very small total population sizes. (Although resampling and permutation methods themselves may not be the best choice in these situations anyway.)\n",
    "\n",
    "**NOTE:** I may not get time to do this before the assignment is due, but I suspect there may be an error in the calculation of `max_diff` for `totalwgt_lb` because the same value is produced for `actual`."
   ]
  },
  {
   "cell_type": "code",
   "execution_count": 11,
   "metadata": {
    "ExecuteTime": {
     "end_time": "2016-06-25T16:06:10.915005",
     "start_time": "2016-06-25T16:06:10.906291"
    },
    "collapsed": false,
    "hide_input": true,
    "run_control": {
     "marked": true
    }
   },
   "outputs": [
    {
     "name": "stdout",
     "output_type": "stream",
     "text": [
      "|          |   prglngth |   totalwgt_lb |\n",
      "|:---------|-----------:|--------------:|\n",
      "| actual   |     0.0751 |        0.1248 |\n",
      "| max_diff |     0.1617 |        0.1248 |\n",
      "| p_value  |     0.1835 |        0.0001 |\n"
     ]
    }
   ],
   "source": [
    "print(tabulate(perm_stats,\n",
    "               headers=perm_stats.columns.tolist(),\n",
    "               tablefmt='pipe',\n",
    "               floatfmt=\".4f\")\n",
    "     )"
   ]
  },
  {
   "cell_type": "code",
   "execution_count": 12,
   "metadata": {
    "ExecuteTime": {
     "end_time": "2016-06-25T16:06:10.925669",
     "start_time": "2016-06-25T16:06:10.918005"
    },
    "collapsed": false,
    "hide_input": true,
    "run_control": {
     "marked": true
    }
   },
   "outputs": [
    {
     "name": "stdout",
     "output_type": "stream",
     "text": [
      "|          |   prglngth |   totalwgt_lb |\n",
      "|:---------|-----------:|--------------:|\n",
      "| actual   |     0.0751 |        0.1248 |\n",
      "| max_diff |     0.1461 |        0.1248 |\n",
      "| p_value  |     0.1833 |        0.0000 |\n"
     ]
    }
   ],
   "source": [
    "print(tabulate(resample_stats,\n",
    "               headers=resample_stats.columns.tolist(),\n",
    "               tablefmt='pipe',\n",
    "               floatfmt=\".4f\")\n",
    "     )"
   ]
  },
  {
   "cell_type": "markdown",
   "metadata": {},
   "source": [
    "# Code"
   ]
  },
  {
   "cell_type": "code",
   "execution_count": 1,
   "metadata": {
    "ExecuteTime": {
     "end_time": "2016-06-25T16:00:33.363994",
     "start_time": "2016-06-25T16:00:31.535011"
    },
    "collapsed": true
   },
   "outputs": [],
   "source": [
    "from __future__ import print_function\n",
    "import numpy as np\n",
    "import scipy.stats as stats\n",
    "import pandas as pd\n",
    "\n",
    "import matplotlib.pyplot as plt\n",
    "import seaborn as sns\n",
    "\n",
    "from tabulate import tabulate\n",
    "from load_ThinkStats import load_FemPreg\n",
    "\n",
    "%matplotlib inline\n",
    "# %config InlineBackend.close_figures = False"
   ]
  },
  {
   "cell_type": "markdown",
   "metadata": {},
   "source": [
    "Make this reproducible."
   ]
  },
  {
   "cell_type": "code",
   "execution_count": 2,
   "metadata": {
    "ExecuteTime": {
     "end_time": "2016-06-25T16:00:33.370656",
     "start_time": "2016-06-25T16:00:33.366346"
    },
    "collapsed": true
   },
   "outputs": [],
   "source": [
    "np.random.seed(42)"
   ]
  },
  {
   "cell_type": "markdown",
   "metadata": {},
   "source": [
    "## Import and clean data\n",
    "\n",
    "Select only live births as before and group the data in to first vs other births."
   ]
  },
  {
   "cell_type": "code",
   "execution_count": 3,
   "metadata": {
    "ExecuteTime": {
     "end_time": "2016-06-25T16:00:33.739441",
     "start_time": "2016-06-25T16:00:33.373384"
    },
    "collapsed": false
   },
   "outputs": [],
   "source": [
    "df = load_FemPreg(True)\n",
    "\n",
    "df.dropna(subset=['birthord', 'prglngth', 'totalwgt_lb'], inplace=True)\n",
    "\n",
    "df = df.loc[df.outcome == 1]\n",
    "\n",
    "assert df.shape[0] == 9038\n",
    "assert (df.outcome==1).all() == True\n",
    "\n",
    "df['birthord'] = df.birthord.astype(np.int)\n",
    "df['birthord_bin'] = pd.cut(df.birthord, [0, 1, df.birthord.max()])\n",
    "\n",
    "df = df[['birthord_bin', 'prglngth', 'totalwgt_lb']]\n",
    "df = df.sort_values('birthord_bin').reset_index(drop=True)"
   ]
  },
  {
   "cell_type": "markdown",
   "metadata": {},
   "source": [
    "## Shuffle or permute data\n",
    "\n",
    "Helper functions to either permute or resample a dataframe.\n",
    "\n",
    "### NOTE\n",
    "\n",
    "These functions are pretty slow for 10,000 samples. I suspect there is too much dataframe shuffling and indexing going on. They should be re-written to initially convert the dataframe to a numpy array (usually faster), perform the simulations, and then calculate and return the mean values. I am in need of a break and the deadline is approaching, so this will have to wait for another day."
   ]
  },
  {
   "cell_type": "code",
   "execution_count": 4,
   "metadata": {
    "ExecuteTime": {
     "end_time": "2016-06-25T16:00:33.773344",
     "start_time": "2016-06-25T16:00:33.741566"
    },
    "collapsed": false
   },
   "outputs": [],
   "source": [
    "def permute_data(df, column_sort='birthord_bin'):\n",
    "    \n",
    "    # Ensure we don't change the original data\n",
    "    df = df.copy()\n",
    "    \n",
    "    # Shuffle the classifier column and reset values\n",
    "    # This is the same as permuting the data\n",
    "    df[column_sort] = np.random.permutation(df[column_sort])\n",
    "    df.sort_values(column_sort, inplace=True)\n",
    "    \n",
    "    return df\n",
    "\n",
    "\n",
    "def resample_data(df, column_sort='birthord_bin'):\n",
    "    \n",
    "    # Ensure we don't change the original data\n",
    "    df = df.copy()\n",
    "    \n",
    "    # Need unique indexes\n",
    "    df.reset_index(drop=True, inplace=True)\n",
    "    \n",
    "    # Determine group names and sizes\n",
    "    freq_table = df[column_sort].value_counts().sort_index()\n",
    "    m, n = freq_table.values\n",
    "    m_name, n_name = freq_table.index\n",
    "\n",
    "    # Select the rows randomly \n",
    "    m_data = df.loc[np.random.choice(df.index, m, replace=True)]\n",
    "    n_data = df.loc[np.random.choice(df.index, n, replace=True)]\n",
    "    \n",
    "    # Set sort column value\n",
    "    m_data = m_data.drop(column_sort, axis=1)\n",
    "    n_data = n_data.drop(column_sort, axis=1)\n",
    "    m_data[column_sort] = m_name\n",
    "    n_data[column_sort] = n_name\n",
    "    \n",
    "    # Combine and return the new dataframe\n",
    "    new_df = pd.concat([m_data, n_data], axis=0).reset_index(drop=True)\n",
    "    assert new_df.shape[0] == df.shape[0]\n",
    "    \n",
    "    return new_df"
   ]
  },
  {
   "cell_type": "markdown",
   "metadata": {},
   "source": [
    "Calculate the actual difference in means between first borns and all others."
   ]
  },
  {
   "cell_type": "code",
   "execution_count": 5,
   "metadata": {
    "ExecuteTime": {
     "end_time": "2016-06-25T16:00:37.116759",
     "start_time": "2016-06-25T16:00:37.104154"
    },
    "collapsed": false
   },
   "outputs": [],
   "source": [
    "get_mean_diff = lambda df: ( df.groupby('birthord_bin')\n",
    "                            .mean().diff().abs()\n",
    "                            .dropna().reset_index(drop=True) )\n",
    "\n",
    "actual = get_mean_diff(df)"
   ]
  },
  {
   "cell_type": "code",
   "execution_count": 6,
   "metadata": {
    "ExecuteTime": {
     "end_time": "2016-06-25T16:00:37.655798",
     "start_time": "2016-06-25T16:00:37.649708"
    },
    "collapsed": false
   },
   "outputs": [
    {
     "name": "stdout",
     "output_type": "stream",
     "text": [
      "|        |   prglngth |   totalwgt_lb |\n",
      "|-------:|-----------:|--------------:|\n",
      "| 0.0000 |     0.0751 |        0.1248 |\n"
     ]
    }
   ],
   "source": [
    "print(tabulate(actual,\n",
    "               headers=actual.columns.tolist(),\n",
    "               tablefmt='pipe',\n",
    "               floatfmt=\".4f\")\n",
    "     )"
   ]
  },
  {
   "cell_type": "markdown",
   "metadata": {},
   "source": [
    "Run 10000 permutations or samplings and calculate the absolute mean difference between the permuted/resampled birth order groups for birthweight and pregnancy length."
   ]
  },
  {
   "cell_type": "code",
   "execution_count": 7,
   "metadata": {
    "ExecuteTime": {
     "end_time": "2016-06-25T16:06:10.860037",
     "start_time": "2016-06-25T16:00:44.128734"
    },
    "collapsed": false
   },
   "outputs": [],
   "source": [
    "niter = 10000\n",
    "\n",
    "permutations = pd.concat( [ get_mean_diff(permute_data(df)) \n",
    "                            for _ in range(niter)\n",
    "                          ]).reset_index(drop=True)\n",
    "\n",
    "resamplings = pd.concat( [ get_mean_diff(resample_data(df)) \n",
    "                           for _ in range(niter)\n",
    "                         ]).reset_index(drop=True)"
   ]
  },
  {
   "cell_type": "markdown",
   "metadata": {},
   "source": [
    "Determine statistics on the 10000 trials of permutations and resamplings."
   ]
  },
  {
   "cell_type": "code",
   "execution_count": 8,
   "metadata": {
    "ExecuteTime": {
     "end_time": "2016-06-25T16:06:10.884657",
     "start_time": "2016-06-25T16:06:10.861823"
    },
    "collapsed": false
   },
   "outputs": [],
   "source": [
    "def get_pvalue(df, actual=actual):\n",
    "    return df.sub(actual.squeeze(), axis=1).ge(0.).sum() / np.float(df.shape[0])\n",
    "\n",
    "def get_max_diff(df, actual=actual):\n",
    "    return df.sub(actual.squeeze(), axis=1).abs().max()\n",
    "\n",
    "perm_stats = pd.DataFrame({'p_value': get_pvalue(permutations), \n",
    "                           'actual':actual.squeeze(), \n",
    "                           'max_diff':get_max_diff(permutations)}).T\n",
    "\n",
    "resample_stats = pd.DataFrame({'p_value': get_pvalue(resamplings), \n",
    "                           'actual':actual.squeeze(), \n",
    "                           'max_diff':get_max_diff(resamplings)}).T"
   ]
  },
  {
   "cell_type": "code",
   "execution_count": 9,
   "metadata": {
    "ExecuteTime": {
     "end_time": "2016-06-25T16:06:10.893152",
     "start_time": "2016-06-25T16:06:10.886470"
    },
    "collapsed": false
   },
   "outputs": [
    {
     "name": "stdout",
     "output_type": "stream",
     "text": [
      "|          |   prglngth |   totalwgt_lb |\n",
      "|:---------|-----------:|--------------:|\n",
      "| actual   |     0.0751 |        0.1248 |\n",
      "| max_diff |     0.1617 |        0.1248 |\n",
      "| p_value  |     0.1835 |        0.0001 |\n"
     ]
    }
   ],
   "source": [
    "print(tabulate(perm_stats,\n",
    "               headers=perm_stats.columns.tolist(),\n",
    "               tablefmt='pipe',\n",
    "               floatfmt=\".4f\")\n",
    "     )"
   ]
  },
  {
   "cell_type": "code",
   "execution_count": 10,
   "metadata": {
    "ExecuteTime": {
     "end_time": "2016-06-25T16:06:10.903347",
     "start_time": "2016-06-25T16:06:10.896165"
    },
    "collapsed": false
   },
   "outputs": [
    {
     "name": "stdout",
     "output_type": "stream",
     "text": [
      "|          |   prglngth |   totalwgt_lb |\n",
      "|:---------|-----------:|--------------:|\n",
      "| actual   |     0.0751 |        0.1248 |\n",
      "| max_diff |     0.1461 |        0.1248 |\n",
      "| p_value  |     0.1833 |        0.0000 |\n"
     ]
    }
   ],
   "source": [
    "print(tabulate(resample_stats,\n",
    "               headers=resample_stats.columns.tolist(),\n",
    "               tablefmt='pipe',\n",
    "               floatfmt=\".4f\")\n",
    "     )"
   ]
  }
 ],
 "metadata": {
  "kernelspec": {
   "display_name": "Python 2",
   "language": "python",
   "name": "python2"
  },
  "language_info": {
   "codemirror_mode": {
    "name": "ipython",
    "version": 2
   },
   "file_extension": ".py",
   "mimetype": "text/x-python",
   "name": "python",
   "nbconvert_exporter": "python",
   "pygments_lexer": "ipython2",
   "version": "2.7.11"
  }
 },
 "nbformat": 4,
 "nbformat_minor": 0
}
