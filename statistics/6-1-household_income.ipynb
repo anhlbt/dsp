{
 "cells": [
  {
   "cell_type": "markdown",
   "metadata": {
    "run_control": {
     "marked": false
    }
   },
   "source": [
    "[Think Stats Chapter 6 Exercise 1](http://greenteapress.com/thinkstats2/html/thinkstats2007.html#toc60) (household income)\n",
    "\n",
    "The distribution of income is famously skewed to the right. In this exercise, we’ll measure how strong that skew is.\n",
    "\n",
    "The Current Population Survey (CPS) is a joint effort of the Bureau of Labor Statistics and the Census Bureau to study income and related variables. Data collected in 2013 is available from the Census Burea’s website. I downloaded hinc06.xls, which is an Excel spreadsheet with information about household income, and converted it to hinc06.csv, a CSV file you will find in the repository for this book. You will also find hinc2.py, which reads this file and transforms the data.\n",
    "\n",
    "The dataset is in the form of a series of income ranges and the number of respondents who fell in each range. The lowest range includes respondents who reported annual household income \"Under \\$5000.\" The highest range includes respondents who made \"$250,000 or more.\"\n",
    "\n",
    "To estimate mean and other statistics from these data, we have to make some assumptions about the lower and upper bounds, and how the values are distributed in each range. hinc2.py provides InterpolateSample, which shows one way to model this data. It takes a DataFrame with a column, income, that contains the upper bound of each range, and freq, which contains the number of respondents in each frame.\n",
    "\n",
    "It also takes log_upper, which is an assumed upper bound on the highest range, expressed in `log10` dollars. The default value, `log_upper=6.0` represents the assumption that the largest income among the respondents is 106, or one million dollars.”\n",
    "\n",
    "InterpolateSample generates a pseudo-sample; that is, a sample of household incomes that yields the same number of respondents in each range as the actual data. It assumes that incomes in each range are equally spaced on a `log10` scale.\n",
    "\n",
    "Compute the median, mean, skewness and Pearson’s skewness of the resulting sample. What fraction of households reports a taxable income below the mean? How do the results depend on the assumed upper bound?\n",
    "\n",
    "This notebook has been converted to a markdown file using [convert_notebooks_to_markdown.py](./convert_notebooks_to_markdown.py).\n",
    "\n",
    "\n",
    "# - [ ] Finish text for this question\n",
    "\n",
    "# Answer"
   ]
  },
  {
   "cell_type": "code",
   "execution_count": 9,
   "metadata": {
    "ExecuteTime": {
     "end_time": "2016-06-24T12:17:43.707003",
     "start_time": "2016-06-24T12:17:43.179690"
    },
    "collapsed": false,
    "hide_input": true,
    "run_control": {
     "marked": true
    },
    "scrolled": false
   },
   "outputs": [
    {
     "name": "stdout",
     "output_type": "stream",
     "text": [
      "INSERT TEXT HERE\n",
      "\n",
      "|               |   1000000 |   5000000 |   10000000 |\n",
      "|:--------------|----------:|----------:|-----------:|\n",
      "| mean          | 74278.708 | 99117.595 | 124267.397 |\n",
      "| median        | 51226.933 | 51226.933 |  51226.933 |\n",
      "| skew          |     4.950 |    10.251 |     11.604 |\n",
      "| pearsons_skew |     0.736 |     0.465 |      0.392 |\n"
     ]
    }
   ],
   "source": [
    "print('INSERT TEXT HERE\\n')\n",
    "\n",
    "print(tabulate(statistics,\n",
    "               headers=statistics.columns.tolist(),\n",
    "               tablefmt='pipe',\n",
    "               floatfmt=\".3f\")\n",
    "     )"
   ]
  },
  {
   "cell_type": "code",
   "execution_count": 10,
   "metadata": {
    "ExecuteTime": {
     "end_time": "2016-06-24T12:17:46.141536",
     "start_time": "2016-06-24T12:17:44.539212"
    },
    "collapsed": false,
    "hide_input": true,
    "run_control": {
     "marked": true
    }
   },
   "outputs": [
    {
     "data": {
      "image/png": "[encoded data removed]",
      "text/plain": [
       "<matplotlib.figure.Figure at 0x1175b4150>"
      ]
     },
     "metadata": {},
     "output_type": "display_data"
    }
   ],
   "source": [
    "plt.show()"
   ]
  },
  {
   "cell_type": "markdown",
   "metadata": {
    "run_control": {
     "marked": false
    }
   },
   "source": [
    "# Code"
   ]
  },
  {
   "cell_type": "code",
   "execution_count": 1,
   "metadata": {
    "ExecuteTime": {
     "end_time": "2016-06-24T12:17:28.991957",
     "start_time": "2016-06-24T12:17:27.080748"
    },
    "collapsed": false,
    "run_control": {
     "marked": false
    }
   },
   "outputs": [],
   "source": [
    "import pandas as pd\n",
    "import numpy as np\n",
    "import matplotlib.pyplot as plt\n",
    "import seaborn as sns\n",
    "from tabulate import tabulate\n",
    "\n",
    "%matplotlib inline\n",
    "%config InlineBackend.close_figures = False"
   ]
  },
  {
   "cell_type": "markdown",
   "metadata": {
    "run_control": {
     "marked": false
    }
   },
   "source": [
    "The list of maximum income ranges to test."
   ]
  },
  {
   "cell_type": "code",
   "execution_count": 2,
   "metadata": {
    "ExecuteTime": {
     "end_time": "2016-06-24T12:17:29.000291",
     "start_time": "2016-06-24T12:17:28.993987"
    },
    "collapsed": false,
    "run_control": {
     "marked": false
    }
   },
   "outputs": [],
   "source": [
    "log_upper = [6.0, np.log10(5.0e6), 7.0]"
   ]
  },
  {
   "cell_type": "markdown",
   "metadata": {
    "run_control": {
     "marked": false
    }
   },
   "source": [
    "Import and clean the data, convert income to a logarithmic scale for resampling."
   ]
  },
  {
   "cell_type": "code",
   "execution_count": 3,
   "metadata": {
    "ExecuteTime": {
     "end_time": "2016-06-24T12:17:29.034832",
     "start_time": "2016-06-24T12:17:29.002651"
    },
    "collapsed": false,
    "run_control": {
     "marked": false
    }
   },
   "outputs": [],
   "source": [
    "# Import as a dataframe\n",
    "thinkstats_path = '/Volumes/Files/datascience_books/ThinkStats2/code'\n",
    "\n",
    "data = pd.read_csv(os.sep.join([thinkstats_path, 'hinc06.csv']), \n",
    "                   header=None, skiprows=9, \n",
    "                   names=['income_str','freq'], usecols=[0,1])\n",
    "\n",
    "# Fix column formatting, determine lower and upper limit for income in each bracket\n",
    "data['freq'] = data.freq.str.replace(',','').astype(int)\n",
    "\n",
    "data['income_low'] = ( data.income_str\n",
    "                .str.extract(r\"\"\"([0-9,]+)\"\"\", expand=False)\n",
    "                .str.replace(',','')\n",
    "                .astype(float)\n",
    "              )\n",
    "\n",
    "data['income_high'] = (data.income_low.shift(-1) - 1).fillna(np.inf)\n",
    "data.drop(['income_str','income_low'], axis=1, inplace=True)\n",
    "\n",
    "# Log scale conversion\n",
    "data['log_upper'] = np.log10(data.income_high)\n",
    "data['log_lower'] = data.log_upper.shift(1).dropna()\n",
    "\n",
    "# Lowest yearly income amount is set to $1000 (10**3)\n",
    "data.loc[0, 'log_lower'] = 3.0 "
   ]
  },
  {
   "cell_type": "markdown",
   "metadata": {
    "run_control": {
     "marked": false
    }
   },
   "source": [
    "Resample the data using a log-linear distribution."
   ]
  },
  {
   "cell_type": "code",
   "execution_count": 4,
   "metadata": {
    "ExecuteTime": {
     "end_time": "2016-06-24T12:17:29.193715",
     "start_time": "2016-06-24T12:17:29.036818"
    },
    "collapsed": false,
    "run_control": {
     "marked": false
    },
    "scrolled": true
   },
   "outputs": [],
   "source": [
    "# The resampling function\n",
    "def freq_resampler(df, log_upper=None):\n",
    "        \n",
    "    # This resampling method only works on Series\n",
    "    series = df.squeeze()\n",
    "    \n",
    "    if not np.isinf(series.log_upper):\n",
    "        log_upper = series.log_upper\n",
    "        \n",
    "    resampled_data =  pd.DataFrame({'log_income': np.linspace(series.log_lower, \n",
    "                                                              log_upper, \n",
    "                                                              series.freq)})\n",
    "    return resampled_data\n",
    "\n",
    "\n",
    "resampled_data = map(lambda y: ( data.groupby(level=0, group_keys=False)\n",
    "                                 .apply(lambda x: freq_resampler(x, y))\n",
    "                                ), log_upper)\n",
    "\n",
    "resampled_data = pd.concat(resampled_data, axis=1)\n",
    "\n",
    "resampled_data.columns = map(lambda x: int(np.round(10**x, 0)), log_upper)"
   ]
  },
  {
   "cell_type": "markdown",
   "metadata": {
    "run_control": {
     "marked": false
    }
   },
   "source": [
    "Compute statistics on the results."
   ]
  },
  {
   "cell_type": "code",
   "execution_count": 5,
   "metadata": {
    "ExecuteTime": {
     "end_time": "2016-06-24T12:17:29.307446",
     "start_time": "2016-06-24T12:17:29.195755"
    },
    "collapsed": false,
    "run_control": {
     "marked": false
    }
   },
   "outputs": [],
   "source": [
    "def pearsons_skew(data):\n",
    "    return 3.0*(data.mean() - data.median()) / data.std()\n",
    "\n",
    "statistics = ( (10**resampled_data)\n",
    "              .stack()\n",
    "              .groupby(level=-1)\n",
    "              .agg(['mean', 'median', 'skew', pearsons_skew])\n",
    "             ).T"
   ]
  },
  {
   "cell_type": "code",
   "execution_count": 6,
   "metadata": {
    "ExecuteTime": {
     "end_time": "2016-06-24T12:17:29.318486",
     "start_time": "2016-06-24T12:17:29.309571"
    },
    "collapsed": false,
    "run_control": {
     "marked": false
    }
   },
   "outputs": [
    {
     "name": "stdout",
     "output_type": "stream",
     "text": [
      "|               |   1000000 |   5000000 |   10000000 |\n",
      "|:--------------|----------:|----------:|-----------:|\n",
      "| mean          | 74278.708 | 99117.595 | 124267.397 |\n",
      "| median        | 51226.933 | 51226.933 |  51226.933 |\n",
      "| skew          |     4.950 |    10.251 |     11.604 |\n",
      "| pearsons_skew |     0.736 |     0.465 |      0.392 |\n"
     ]
    }
   ],
   "source": [
    "print(tabulate(statistics,\n",
    "               headers=statistics.columns.tolist(),\n",
    "               tablefmt='pipe',\n",
    "               floatfmt=\".3f\")\n",
    "     )"
   ]
  },
  {
   "cell_type": "markdown",
   "metadata": {},
   "source": [
    "Plot the log distribution of income relative to the CDF."
   ]
  },
  {
   "cell_type": "code",
   "execution_count": 7,
   "metadata": {
    "ExecuteTime": {
     "end_time": "2016-06-24T12:17:29.700762",
     "start_time": "2016-06-24T12:17:29.668195"
    },
    "collapsed": false,
    "run_control": {
     "marked": false
    }
   },
   "outputs": [],
   "source": [
    "cdf = resampled_data.cumsum() / resampled_data.sum()\n",
    "combined_data = pd.concat([resampled_data, cdf], axis=1)\n",
    "combined_data.columns = pd.MultiIndex.from_product([['income', 'cdf'], resampled_data.columns])"
   ]
  },
  {
   "cell_type": "code",
   "execution_count": 8,
   "metadata": {
    "ExecuteTime": {
     "end_time": "2016-06-24T12:17:35.890808",
     "start_time": "2016-06-24T12:17:30.129244"
    },
    "collapsed": false,
    "run_control": {
     "marked": false
    }
   },
   "outputs": [
    {
     "data": {
      "image/png": "[encoded data removed]",
      "text/plain": [
       "<matplotlib.figure.Figure at 0x1175b4150>"
      ]
     },
     "metadata": {},
     "output_type": "display_data"
    }
   ],
   "source": [
    "sns.set_context('talk')\n",
    "sns.set_style('whitegrid')\n",
    "\n",
    "fig = plt.figure()\n",
    "fig.set_size_inches(7, 5)\n",
    "ax = plt.axes()\n",
    "\n",
    "_ = combined_data.stack().groupby(level=-1).plot('income', 'cdf', kind='line', ax=ax)\n",
    "\n",
    "lines, labels = ax.get_legend_handles_labels()\n",
    "ax.legend(lines, combined_data.columns.get_level_values(1).unique(),loc=0)\n",
    "_ = ax.set_ylim(0, 1.1)\n",
    "_ = ax.set_xlabel('log(income)')\n",
    "_ = ax.set_ylabel('CDF')"
   ]
  }
 ],
 "metadata": {
  "kernelspec": {
   "display_name": "Python 2",
   "language": "python",
   "name": "python2"
  },
  "language_info": {
   "codemirror_mode": {
    "name": "ipython",
    "version": 2
   },
   "file_extension": ".py",
   "mimetype": "text/x-python",
   "name": "python",
   "nbconvert_exporter": "python",
   "pygments_lexer": "ipython2",
   "version": "2.7.11"
  }
 },
 "nbformat": 4,
 "nbformat_minor": 0
}
