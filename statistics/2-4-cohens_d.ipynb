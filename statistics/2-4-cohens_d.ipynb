{
 "cells": [
  {
   "cell_type": "markdown",
   "metadata": {},
   "source": [
    "[Think Stats Chapter 2 Exercise 4](http://greenteapress.com/thinkstats2/html/thinkstats2003.html#toc24) (Cohen's d)\n",
    "\n",
    "Using the variable totalwgt_lb, investigate whether first babies are lighter or heavier than others. Compute Cohen’s d to quantify the difference between the groups. How does it compare to the difference in pregnancy length?\n",
    "\n",
    "This notebook has been converted to a markdown file using [convert_notebooks_to_markdown.py](./convert_notebooks_to_markdown.py).\n",
    "\n",
    "# Answer\n",
    "\n",
    "Cohen's d for firstborn babies vs all others has been calculated for the difference between pregnancy length (`prglngth`) and total weight (`totalwgt`) for all pregnancies (`all`) and for only those determined to be full-term (> 27 weeks) (`full`). \n",
    "\n",
    "I decided to examine the difference between all pregnancies and only those that were full term based on Slack discussion about which group was used in the book.\n",
    "\n",
    "All values determined for Cohen's d are less than 0.1 of their respective pooled standard deviations. Thus, these are small effect sizes. We can determine that there is little difference between pregnancy length and total weight for firstborn vs other babies, and this is true regardless of whether non-full term pregnancies are examined."
   ]
  },
  {
   "cell_type": "code",
   "execution_count": 10,
   "metadata": {
    "ExecuteTime": {
     "end_time": "2016-06-16T13:26:50.611614",
     "start_time": "2016-06-16T13:26:50.605462"
    },
    "collapsed": false,
    "hide_input": true,
    "run_control": {
     "marked": true
    }
   },
   "outputs": [
    {
     "name": "stdout",
     "output_type": "stream",
     "text": [
      "|      |   prglngth |   totalwgt |\n",
      "|:-----|-----------:|-----------:|\n",
      "| all  |      0.029 |      0.089 |\n",
      "| full |      0.026 |      0.087 |\n"
     ]
    }
   ],
   "source": [
    "print(tabulate(cohens_d,\n",
    "               headers=cohens_d.columns.tolist(),\n",
    "               tablefmt='pipe',\n",
    "               floatfmt=\".3f\")\n",
    "     )"
   ]
  },
  {
   "cell_type": "markdown",
   "metadata": {},
   "source": [
    "# Code"
   ]
  },
  {
   "cell_type": "code",
   "execution_count": 1,
   "metadata": {
    "ExecuteTime": {
     "end_time": "2016-06-25T06:48:54.588204",
     "start_time": "2016-06-25T06:48:53.577424"
    },
    "collapsed": false
   },
   "outputs": [],
   "source": [
    "from __future__ import print_function\n",
    "import pandas as pd\n",
    "import numpy as np\n",
    "\n",
    "from tabulate import tabulate\n",
    "from load_ThinkStats import load_FemPreg"
   ]
  },
  {
   "cell_type": "markdown",
   "metadata": {},
   "source": [
    "Load the 2002 female pregnancy results. This uses a custom library I wrote called [`load_ThinkStats`](load_ThinkStats.py)."
   ]
  },
  {
   "cell_type": "code",
   "execution_count": 2,
   "metadata": {
    "ExecuteTime": {
     "end_time": "2016-06-25T06:48:54.922549",
     "start_time": "2016-06-25T06:48:54.590435"
    },
    "collapsed": false
   },
   "outputs": [],
   "source": [
    "df = load_FemPreg(True)\n",
    "df.rename(columns={'totalwgt_lb':'totalwgt'}, inplace=True)"
   ]
  },
  {
   "cell_type": "markdown",
   "metadata": {},
   "source": [
    "## Clean and bin the data into first born vs others\n",
    "\n",
    "Drop any invalid (`na`) data and select only live births. Separate the birth data into two groups (first born and all others)."
   ]
  },
  {
   "cell_type": "code",
   "execution_count": 3,
   "metadata": {
    "ExecuteTime": {
     "end_time": "2016-06-25T06:48:55.128456",
     "start_time": "2016-06-25T06:48:55.109408"
    },
    "collapsed": false
   },
   "outputs": [],
   "source": [
    "df.dropna(subset=['birthord'], inplace=True)\n",
    "df = df.loc[df.outcome==1]\n",
    "\n",
    "assert df.shape[0] == 9148\n",
    "assert (df.outcome==1).all() == True\n",
    "\n",
    "df['birthord'] = df.birthord.astype(np.int)\n",
    "df['birthord_bin'] = pd.cut(df.birthord, [0,1, df.birthord.max()])"
   ]
  },
  {
   "cell_type": "markdown",
   "metadata": {},
   "source": [
    "Print the bin for each birth order to ensure the groups are as expected."
   ]
  },
  {
   "cell_type": "code",
   "execution_count": 4,
   "metadata": {
    "ExecuteTime": {
     "end_time": "2016-06-25T06:48:56.072921",
     "start_time": "2016-06-25T06:48:56.056726"
    },
    "collapsed": false
   },
   "outputs": [
    {
     "name": "stdout",
     "output_type": "stream",
     "text": [
      "|         |   birthord |\n",
      "|:--------|-----------:|\n",
      "| (0, 1]  |          1 |\n",
      "| (1, 10] |          2 |\n",
      "| (1, 10] |          3 |\n",
      "| (1, 10] |          4 |\n",
      "| (1, 10] |          5 |\n",
      "| (1, 10] |          6 |\n",
      "| (1, 10] |          7 |\n",
      "| (1, 10] |          8 |\n",
      "| (1, 10] |          9 |\n",
      "| (1, 10] |         10 |\n"
     ]
    }
   ],
   "source": [
    "print(tabulate(df[['birthord_bin','birthord']]\n",
    "                 .drop_duplicates()\n",
    "                 .set_index('birthord_bin'), \n",
    "               headers=['birthord'],\n",
    "               tablefmt='pipe')\n",
    "      )"
   ]
  },
  {
   "cell_type": "markdown",
   "metadata": {},
   "source": [
    "## Calculate birth weight statistics\n",
    "\n",
    "For each of the two groups (first born and all others), calculate the mean and variance pregnancy length and birthweight. Also determine the number of births in each of the two groups.\n",
    "\n",
    "The above statistics were calculated separately for all pregnancies and for those determined to be full-term (longer than 27 weeks, as defined by the book)."
   ]
  },
  {
   "cell_type": "code",
   "execution_count": 5,
   "metadata": {
    "ExecuteTime": {
     "end_time": "2016-06-25T06:48:57.595242",
     "start_time": "2016-06-25T06:48:57.505045"
    },
    "collapsed": false
   },
   "outputs": [],
   "source": [
    "def create_stats(df, prglngth_min):\n",
    "    # A function to do dataframe munging for \n",
    "    # all and full-term pregnancies\n",
    "    \n",
    "    if prglngth_min >= 27:\n",
    "        term='full'\n",
    "    else:\n",
    "        term='all'\n",
    "        \n",
    "    return ( df[['birthord_bin', 'totalwgt', 'prglngth']]\n",
    "             .query('prglngth > {}'.format(prglngth_min))\n",
    "             .groupby('birthord_bin')\n",
    "             .agg(['mean','var','count'])\n",
    "             .assign(term=term)\n",
    "             .set_index('term', append=True)\n",
    "            )\n",
    "\n",
    "\n",
    "stats = pd.concat([create_stats(df, -1), create_stats(df, 27)]).sort_index()"
   ]
  },
  {
   "cell_type": "markdown",
   "metadata": {},
   "source": [
    "Normalize the counts to create percent of total."
   ]
  },
  {
   "cell_type": "code",
   "execution_count": 6,
   "metadata": {
    "ExecuteTime": {
     "end_time": "2016-06-25T06:48:58.049568",
     "start_time": "2016-06-25T06:48:58.016236"
    },
    "collapsed": false
   },
   "outputs": [],
   "source": [
    "stats.loc[:,(slice(None), 'count')] /= ( stats.loc[:,(slice(None), 'count')]\n",
    "                                         .sum(axis=0, level=1)\n",
    "                                       )\n",
    "\n",
    "stats = stats.rename(columns={'count':'pct'}).sort_index(axis=1)"
   ]
  },
  {
   "cell_type": "markdown",
   "metadata": {},
   "source": [
    "View the statistics table."
   ]
  },
  {
   "cell_type": "code",
   "execution_count": 7,
   "metadata": {
    "ExecuteTime": {
     "end_time": "2016-06-25T06:48:59.361090",
     "start_time": "2016-06-25T06:48:59.353165"
    },
    "collapsed": false
   },
   "outputs": [
    {
     "name": "stdout",
     "output_type": "stream",
     "text": [
      "|                     |   prglngth_mean |   prglngth_pct |   prglngth_var |   totalwgt_mean |   totalwgt_pct |   totalwgt_var |\n",
      "|:--------------------|----------------:|---------------:|---------------:|----------------:|---------------:|---------------:|\n",
      "| ('(0, 1]', 'all')   |          38.601 |          0.482 |          7.795 |           7.201 |          0.483 |          2.018 |\n",
      "| ('(0, 1]', 'full')  |          38.713 |          0.483 |          6.006 |           7.238 |          0.483 |          1.827 |\n",
      "| ('(1, 10]', 'all')  |          38.523 |          0.518 |          6.843 |           7.326 |          0.517 |          1.944 |\n",
      "| ('(1, 10]', 'full') |          38.653 |          0.517 |          4.699 |           7.356 |          0.517 |          1.803 |\n"
     ]
    }
   ],
   "source": [
    "print(tabulate(stats,\n",
    "               headers=map(lambda x: '_'.join(x), stats.columns.tolist()),\n",
    "               tablefmt='pipe',\n",
    "               floatfmt=\".3f\")\n",
    "     )"
   ]
  },
  {
   "cell_type": "markdown",
   "metadata": {},
   "source": [
    "## Calculate Cohen's d\n",
    "\n",
    "Use the statistics table to calculate Cohen's d for pregnancy length and birthweight for firstborn vs. all other babies.\n",
    "\n",
    "Cohen's d is the difference in means between two groups divided by their pooled standard deviations:\n",
    "$$d = \\frac{\\bar{x_1} - \\bar{x_2}}{S}$$"
   ]
  },
  {
   "cell_type": "code",
   "execution_count": 8,
   "metadata": {
    "ExecuteTime": {
     "end_time": "2016-06-25T06:49:02.501579",
     "start_time": "2016-06-25T06:49:02.479303"
    },
    "collapsed": false
   },
   "outputs": [],
   "source": [
    "pooled_std = ( stats.xs('var', axis=1, level=1)\n",
    "               .mul(stats.xs('pct', axis=1, level=1))\n",
    "               .sum(axis=0, level=1)\n",
    "              ).pipe(np.sqrt)\n",
    "\n",
    "cohens_d = ( stats.xs('mean', axis=1, level=1)\n",
    "             .diff(axis=0, periods=2)\n",
    "             .dropna()\n",
    "             .reset_index(level=0, drop=True)\n",
    "             .abs()\n",
    "            ).div(pooled_std)"
   ]
  },
  {
   "cell_type": "markdown",
   "metadata": {},
   "source": [
    "View the table of Cohen's d values."
   ]
  },
  {
   "cell_type": "code",
   "execution_count": 9,
   "metadata": {
    "ExecuteTime": {
     "end_time": "2016-06-25T06:49:05.373584",
     "start_time": "2016-06-25T06:49:05.367106"
    },
    "collapsed": false
   },
   "outputs": [
    {
     "name": "stdout",
     "output_type": "stream",
     "text": [
      "|      |   prglngth |   totalwgt |\n",
      "|:-----|-----------:|-----------:|\n",
      "| all  |      0.029 |      0.089 |\n",
      "| full |      0.026 |      0.087 |\n"
     ]
    }
   ],
   "source": [
    "print(tabulate(cohens_d,\n",
    "               headers=cohens_d.columns.tolist(),\n",
    "               tablefmt='pipe',\n",
    "               floatfmt=\".3f\")\n",
    "     )"
   ]
  }
 ],
 "metadata": {
  "kernelspec": {
   "display_name": "Python 2",
   "language": "python",
   "name": "python2"
  },
  "language_info": {
   "codemirror_mode": {
    "name": "ipython",
    "version": 2
   },
   "file_extension": ".py",
   "mimetype": "text/x-python",
   "name": "python",
   "nbconvert_exporter": "python",
   "pygments_lexer": "ipython2",
   "version": "2.7.11"
  }
 },
 "nbformat": 4,
 "nbformat_minor": 0
}
