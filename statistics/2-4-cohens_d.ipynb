{
 "cells": [
  {
   "cell_type": "markdown",
   "metadata": {},
   "source": [
    "[Think Stats Chapter 2 Exercise 4](http://greenteapress.com/thinkstats2/html/thinkstats2003.html#toc24) (Cohen's d)\n",
    "\n",
    "Using the variable totalwgt_lb, investigate whether first babies are lighter or heavier than others. Compute Cohen’s d to quantify the difference between the groups. How does it compare to the difference in pregnancy length?\n",
    "\n",
    "This markdown file has been converted from a Jupyter notebook using [convert_notebooks_to_markdown.py](./convert_notebooks_to_markdown.py).\n",
    "\n",
    "# Answer"
   ]
  },
  {
   "cell_type": "code",
   "execution_count": 10,
   "metadata": {
    "ExecuteTime": {
     "end_time": "2016-06-02T10:15:30.203394",
     "start_time": "2016-06-02T10:15:30.198551"
    },
    "collapsed": false
   },
   "outputs": [
    {
     "name": "stdout",
     "output_type": "stream",
     "text": [
      "Cohen's d of birthweight for firstborn vs. other children is 0.089.\n",
      "This difference between the two means is less than 0.1 of the pooled standard deviation. This is a small effect size.\n"
     ]
    }
   ],
   "source": [
    "print('Cohen\\'s d of birthweight for firstborn vs. other children is {:.3f}.'.format(cohens_d))\n",
    "\n",
    "print('This difference between the two means is less than 0.1 of the pooled standard deviation. This is a small effect size.')"
   ]
  },
  {
   "cell_type": "markdown",
   "metadata": {},
   "source": [
    "# Code"
   ]
  },
  {
   "cell_type": "code",
   "execution_count": 1,
   "metadata": {
    "ExecuteTime": {
     "end_time": "2016-06-02T10:15:12.065996",
     "start_time": "2016-06-02T10:15:11.421811"
    },
    "collapsed": false
   },
   "outputs": [],
   "source": [
    "import pandas as pd\n",
    "import numpy as np\n",
    "\n",
    "from tabulate import tabulate\n",
    "from load_ThinkStats import load_FemPreg"
   ]
  },
  {
   "cell_type": "markdown",
   "metadata": {},
   "source": [
    "Load the 2002 female pregnancy results. This uses a custom library I wrote called `load_ThinkStats`."
   ]
  },
  {
   "cell_type": "code",
   "execution_count": 2,
   "metadata": {
    "ExecuteTime": {
     "end_time": "2016-06-02T10:15:12.405660",
     "start_time": "2016-06-02T10:15:12.069821"
    },
    "collapsed": false
   },
   "outputs": [],
   "source": [
    "df = load_FemPreg(True)"
   ]
  },
  {
   "cell_type": "markdown",
   "metadata": {},
   "source": [
    "## Clean and bin the data into first born vs others\n",
    "\n",
    "Drop any invalid (`na`) data and separate the birth data into two groups (first born and all others)."
   ]
  },
  {
   "cell_type": "code",
   "execution_count": 3,
   "metadata": {
    "ExecuteTime": {
     "end_time": "2016-06-02T10:15:12.421430",
     "start_time": "2016-06-02T10:15:12.407923"
    },
    "collapsed": false
   },
   "outputs": [],
   "source": [
    "df.dropna(subset=['birthord'], inplace=True)\n",
    "df['birthord'] = df.birthord.astype(np.int)\n",
    "\n",
    "df['birthord_bin'] = pd.cut(df.birthord, [0,1, df.birthord.max()])"
   ]
  },
  {
   "cell_type": "markdown",
   "metadata": {},
   "source": [
    "Print the bin for each birth order to ensure the groups are as expected."
   ]
  },
  {
   "cell_type": "code",
   "execution_count": 4,
   "metadata": {
    "ExecuteTime": {
     "end_time": "2016-06-02T10:15:12.619250",
     "start_time": "2016-06-02T10:15:12.605788"
    },
    "collapsed": false
   },
   "outputs": [
    {
     "name": "stdout",
     "output_type": "stream",
     "text": [
      "|         |   birthord |\n",
      "|:--------|-----------:|\n",
      "| (0, 1]  |      1.000 |\n",
      "| (1, 10] |      2.000 |\n",
      "| (1, 10] |      3.000 |\n",
      "| (1, 10] |      4.000 |\n",
      "| (1, 10] |      5.000 |\n",
      "| (1, 10] |      6.000 |\n",
      "| (1, 10] |      7.000 |\n",
      "| (1, 10] |      8.000 |\n",
      "| (1, 10] |      9.000 |\n",
      "| (1, 10] |     10.000 |\n"
     ]
    }
   ],
   "source": [
    "print(tabulate(df[['birthord_bin','birthord']].drop_duplicates().set_index('birthord_bin'), \n",
    "               headers=['birthord'],\n",
    "               tablefmt='pipe',\n",
    "               floatfmt=\".3f\")\n",
    "      )"
   ]
  },
  {
   "cell_type": "markdown",
   "metadata": {},
   "source": [
    "## Calculate birth weight statistics\n",
    "\n",
    "For each of the two bins (first born and all others), calculate the mean and variance birthweight. Also determine the number of births in each of the two groups."
   ]
  },
  {
   "cell_type": "code",
   "execution_count": 5,
   "metadata": {
    "ExecuteTime": {
     "end_time": "2016-06-02T10:15:13.365219",
     "start_time": "2016-06-02T10:15:13.353731"
    },
    "collapsed": false
   },
   "outputs": [],
   "source": [
    "stats = ( df[['birthord_bin', 'totalwgt_lb']]\n",
    "          .groupby('birthord_bin')\n",
    "          .agg(['mean','var','count'])\n",
    "         )"
   ]
  },
  {
   "cell_type": "markdown",
   "metadata": {},
   "source": [
    "Calculate the normalized counts (i.e. percent of total)."
   ]
  },
  {
   "cell_type": "code",
   "execution_count": 6,
   "metadata": {
    "ExecuteTime": {
     "end_time": "2016-06-02T10:15:13.764479",
     "start_time": "2016-06-02T10:15:13.757323"
    },
    "collapsed": true
   },
   "outputs": [],
   "source": [
    "stats[('totalwgt_lb','count_norm')] = ( stats[('totalwgt_lb','count')]\n",
    "                                        .div(stats[('totalwgt_lb','count')].sum())\n",
    "                                       )"
   ]
  },
  {
   "cell_type": "markdown",
   "metadata": {},
   "source": [
    "View the statistics table."
   ]
  },
  {
   "cell_type": "code",
   "execution_count": 7,
   "metadata": {
    "ExecuteTime": {
     "end_time": "2016-06-02T10:15:14.441095",
     "start_time": "2016-06-02T10:15:14.432713"
    },
    "collapsed": false
   },
   "outputs": [
    {
     "name": "stdout",
     "output_type": "stream",
     "text": [
      "|         |   mean |   var |    count |   count_norm |\n",
      "|:--------|-------:|------:|---------:|-------------:|\n",
      "| (0, 1]  |  7.201 | 2.018 | 4363.000 |        0.483 |\n",
      "| (1, 10] |  7.326 | 1.944 | 4675.000 |        0.517 |\n"
     ]
    }
   ],
   "source": [
    "print(tabulate(stats,\n",
    "      headers=[x[1] for x in stats.columns.tolist()],\n",
    "      tablefmt='pipe',\n",
    "      floatfmt=\".3f\")\n",
    "     )"
   ]
  },
  {
   "cell_type": "markdown",
   "metadata": {},
   "source": [
    "## Calculate Cohen's d\n",
    "\n",
    "Use the statistics table to calculate Cohen's d for birthweight for firstborn vs. all other babies."
   ]
  },
  {
   "cell_type": "code",
   "execution_count": 8,
   "metadata": {
    "ExecuteTime": {
     "end_time": "2016-06-02T10:15:18.073689",
     "start_time": "2016-06-02T10:15:18.063850"
    },
    "collapsed": false
   },
   "outputs": [
    {
     "name": "stdout",
     "output_type": "stream",
     "text": [
      "Cohen's d of birthweight for firstborn vs. other children is 0.089.\n"
     ]
    }
   ],
   "source": [
    "pooled_var = (stats[('totalwgt_lb','var')] * stats[('totalwgt_lb','count_norm')]).sum()\n",
    "\n",
    "cohens_d = (stats[('totalwgt_lb','mean')].diff().dropna() / np.sqrt(pooled_var)).values[0]\n",
    "\n",
    "print('Cohen\\'s d of birthweight for firstborn vs. other children is {:.3f}.'.format(cohens_d))"
   ]
  }
 ],
 "metadata": {
  "kernelspec": {
   "display_name": "Python 2",
   "language": "python",
   "name": "python2"
  },
  "language_info": {
   "codemirror_mode": {
    "name": "ipython",
    "version": 2
   },
   "file_extension": ".py",
   "mimetype": "text/x-python",
   "name": "python",
   "nbconvert_exporter": "python",
   "pygments_lexer": "ipython2",
   "version": "2.7.11"
  }
 },
 "nbformat": 4,
 "nbformat_minor": 0
}
