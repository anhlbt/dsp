{
 "cells": [
  {
   "cell_type": "markdown",
   "metadata": {},
   "source": [
    "[Think Stats Chapter 2 Exercise 4](http://greenteapress.com/thinkstats2/html/thinkstats2003.html#toc24) (Cohen's d)\n",
    "\n",
    "Using the variable totalwgt_lb, investigate whether first babies are lighter or heavier than others. Compute Cohen’s d to quantify the difference between the groups. How does it compare to the difference in pregnancy length?"
   ]
  },
  {
   "cell_type": "code",
   "execution_count": 4,
   "metadata": {
    "ExecuteTime": {
     "end_time": "2016-05-27T14:22:17.226952",
     "start_time": "2016-05-27T14:22:17.222543"
    },
    "collapsed": false
   },
   "outputs": [],
   "source": [
    "import pandas as pd\n",
    "import numpy as np\n",
    "from tabulate import tabulate"
   ]
  },
  {
   "cell_type": "markdown",
   "metadata": {},
   "source": [
    "Load the 2002 female pregnancy results. This uses a custom library I wrote called `load_ThinkStats`."
   ]
  },
  {
   "cell_type": "code",
   "execution_count": 5,
   "metadata": {
    "ExecuteTime": {
     "end_time": "2016-05-27T14:22:17.875934",
     "start_time": "2016-05-27T14:22:17.521678"
    },
    "collapsed": false
   },
   "outputs": [],
   "source": [
    "from load_ThinkStats import load_FemPreg\n",
    "df = load_FemPreg(True)"
   ]
  },
  {
   "cell_type": "markdown",
   "metadata": {},
   "source": [
    "## Clean and bin the data into first born vs others\n",
    "\n",
    "Drop any invalid (na) data and separate the birthdata into two groups (first born and all others)."
   ]
  },
  {
   "cell_type": "code",
   "execution_count": 6,
   "metadata": {
    "ExecuteTime": {
     "end_time": "2016-05-27T14:22:17.989918",
     "start_time": "2016-05-27T14:22:17.976312"
    },
    "collapsed": false
   },
   "outputs": [],
   "source": [
    "df.dropna(subset=['birthord'], inplace=True)\n",
    "df['birthord'] = df.birthord.astype(np.int)\n",
    "\n",
    "df['birthord_bin'] = pd.cut(df.birthord, [0,1, df.birthord.max()])"
   ]
  },
  {
   "cell_type": "markdown",
   "metadata": {},
   "source": [
    "Print the bin for each birth order to ensure the groups are as expected."
   ]
  },
  {
   "cell_type": "code",
   "execution_count": 8,
   "metadata": {
    "ExecuteTime": {
     "end_time": "2016-05-27T14:22:52.607050",
     "start_time": "2016-05-27T14:22:52.594374"
    },
    "collapsed": false
   },
   "outputs": [
    {
     "name": "stdout",
     "output_type": "stream",
     "text": [
      "|         |   birthord |\n",
      "|:--------|-----------:|\n",
      "| (0, 1]  |      1.000 |\n",
      "| (1, 10] |      2.000 |\n",
      "| (1, 10] |      3.000 |\n",
      "| (1, 10] |      4.000 |\n",
      "| (1, 10] |      5.000 |\n",
      "| (1, 10] |      6.000 |\n",
      "| (1, 10] |      7.000 |\n",
      "| (1, 10] |      8.000 |\n",
      "| (1, 10] |      9.000 |\n",
      "| (1, 10] |     10.000 |\n"
     ]
    }
   ],
   "source": [
    "print(tabulate(df[['birthord_bin','birthord']].drop_duplicates().set_index('birthord_bin'), \n",
    "               headers=['birthord'],\n",
    "               tablefmt='pipe',\n",
    "               floatfmt=\".3f\")\n",
    "      )"
   ]
  },
  {
   "cell_type": "markdown",
   "metadata": {},
   "source": [
    "## Calculate birth weight statistics\n",
    "\n",
    "For each of the two bins (first born and all others), calculate the mean and variance birthweight. Also determine the number of births in each of the two groups."
   ]
  },
  {
   "cell_type": "code",
   "execution_count": 9,
   "metadata": {
    "ExecuteTime": {
     "end_time": "2016-05-27T14:23:11.964718",
     "start_time": "2016-05-27T14:23:11.947024"
    },
    "collapsed": false
   },
   "outputs": [],
   "source": [
    "stats = ( df[['birthord_bin', 'totalwgt_lb']]\n",
    "          .groupby('birthord_bin')\n",
    "          .agg(['mean','var','count'])\n",
    "         )"
   ]
  },
  {
   "cell_type": "markdown",
   "metadata": {},
   "source": [
    "Calculate the normalized counts (i.e. percent of total)."
   ]
  },
  {
   "cell_type": "code",
   "execution_count": null,
   "metadata": {
    "collapsed": true
   },
   "outputs": [],
   "source": [
    "stats[('totalwgt_lb','count_norm')] = ( stats[('totalwgt_lb','count')]\n",
    "                                        .div(stats[('totalwgt_lb','count')].sum())\n",
    "                                       )"
   ]
  },
  {
   "cell_type": "markdown",
   "metadata": {},
   "source": [
    "View the statistics table."
   ]
  },
  {
   "cell_type": "code",
   "execution_count": 21,
   "metadata": {
    "ExecuteTime": {
     "end_time": "2016-05-27T14:26:04.079677",
     "start_time": "2016-05-27T14:26:04.071967"
    },
    "collapsed": false
   },
   "outputs": [
    {
     "name": "stdout",
     "output_type": "stream",
     "text": [
      "|         |   mean |   var |    count |   count_norm |\n",
      "|:--------|-------:|------:|---------:|-------------:|\n",
      "| (0, 1]  |  7.201 | 2.018 | 4363.000 |        0.483 |\n",
      "| (1, 10] |  7.326 | 1.944 | 4675.000 |        0.517 |\n"
     ]
    }
   ],
   "source": [
    "print(tabulate(stats,\n",
    "      headers=[x[1] for x in stats.columns.tolist()],\n",
    "      tablefmt='pipe',\n",
    "      floatfmt=\".3f\")\n",
    "     )"
   ]
  },
  {
   "cell_type": "markdown",
   "metadata": {},
   "source": [
    "## Calculate Cohen's d\n",
    "\n",
    "Use the statistics table to calculate Cohen's d for birthweight for firstborn vs. all other babies."
   ]
  },
  {
   "cell_type": "code",
   "execution_count": 23,
   "metadata": {
    "ExecuteTime": {
     "end_time": "2016-05-27T14:26:45.225928",
     "start_time": "2016-05-27T14:26:45.217088"
    },
    "collapsed": false
   },
   "outputs": [
    {
     "name": "stdout",
     "output_type": "stream",
     "text": [
      "0.088672363332\n"
     ]
    }
   ],
   "source": [
    "pooled_var = (stats[('totalwgt_lb','var')] * stats[('totalwgt_lb','count_norm')]).sum()\n",
    "\n",
    "cohens_d = (stats[('totalwgt_lb','mean')].diff().dropna() / np.sqrt(pooled_var)).values[0]\n",
    "print(cohens_d)\n",
    "\n",
    "# COMPARE TO 0.029 FOR PREGNANCY LENGTH"
   ]
  }
 ],
 "metadata": {
  "kernelspec": {
   "display_name": "Python 2",
   "language": "python",
   "name": "python2"
  },
  "language_info": {
   "codemirror_mode": {
    "name": "ipython",
    "version": 2
   },
   "file_extension": ".py",
   "mimetype": "text/x-python",
   "name": "python",
   "nbconvert_exporter": "python",
   "pygments_lexer": "ipython2",
   "version": "2.7.11"
  }
 },
 "nbformat": 4,
 "nbformat_minor": 0
}
